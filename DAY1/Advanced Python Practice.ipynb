{
 "cells": [
  {
   "cell_type": "markdown",
   "id": "c38df5a3-a5d5-4e8e-bdc7-614e5aab28d2",
   "metadata": {},
   "source": [
    "List Comprehensions "
   ]
  },
  {
   "cell_type": "code",
   "execution_count": 1,
   "id": "6031dbf3-6a7e-4811-9e96-9eea13b1ad90",
   "metadata": {},
   "outputs": [],
   "source": [
    "list1 = [ x*x for x in range (10) ]"
   ]
  },
  {
   "cell_type": "code",
   "execution_count": 2,
   "id": "d74b89f4-c882-4341-8289-5a08afceeb33",
   "metadata": {},
   "outputs": [
    {
     "data": {
      "text/plain": [
       "[0, 1, 4, 9, 16, 25, 36, 49, 64, 81]"
      ]
     },
     "execution_count": 2,
     "metadata": {},
     "output_type": "execute_result"
    }
   ],
   "source": [
    "list1"
   ]
  },
  {
   "cell_type": "markdown",
   "id": "d454d6e1-1bed-4917-9fea-896311bdd2f0",
   "metadata": {},
   "source": [
    "Lamda Functions "
   ]
  },
  {
   "cell_type": "code",
   "execution_count": 3,
   "id": "4ab0af07-d6a9-474d-b8cf-70b2992db691",
   "metadata": {},
   "outputs": [],
   "source": [
    "square = lambda x : x**2"
   ]
  },
  {
   "cell_type": "code",
   "execution_count": 4,
   "id": "e8b7f203-eb74-4835-a476-bb9863bb6f11",
   "metadata": {},
   "outputs": [
    {
     "data": {
      "text/plain": [
       "400"
      ]
     },
     "execution_count": 4,
     "metadata": {},
     "output_type": "execute_result"
    }
   ],
   "source": [
    "square(20)"
   ]
  },
  {
   "cell_type": "code",
   "execution_count": 7,
   "id": "8f576886-8ac3-4957-ab1f-1ffe546e13b5",
   "metadata": {},
   "outputs": [],
   "source": [
    "multiply = lambda x,y : x*y"
   ]
  },
  {
   "cell_type": "code",
   "execution_count": 8,
   "id": "d5db1aff-d8ea-4ddd-9a86-edbe5058492f",
   "metadata": {},
   "outputs": [
    {
     "data": {
      "text/plain": [
       "200"
      ]
     },
     "execution_count": 8,
     "metadata": {},
     "output_type": "execute_result"
    }
   ],
   "source": [
    "multiply(10,20)"
   ]
  },
  {
   "cell_type": "markdown",
   "id": "55567187-95a6-4fb0-9290-7d651f1ba610",
   "metadata": {},
   "source": [
    "Exception Handling"
   ]
  },
  {
   "cell_type": "code",
   "execution_count": 20,
   "id": "88f4bb6f-2334-48eb-8775-27635cf602de",
   "metadata": {},
   "outputs": [
    {
     "name": "stdin",
     "output_type": "stream",
     "text": [
      "Enter a number: w\n"
     ]
    },
    {
     "name": "stdout",
     "output_type": "stream",
     "text": [
      "Invalid Input\n"
     ]
    }
   ],
   "source": [
    "try :\n",
    "    num = int(input('Enter a number:'))\n",
    "    print(10/num)\n",
    "except ZeroDivisionError :\n",
    "    print(\"Cannot divide by zero!\")\n",
    "except ValueError :\n",
    "    print(\"Invalid Input\")\n",
    "    "
   ]
  },
  {
   "cell_type": "code",
   "execution_count": 22,
   "id": "3f8eed84-4271-468c-8c14-9f81bb544862",
   "metadata": {},
   "outputs": [],
   "source": [
    "with open('text.txt', 'w') as h:\n",
    "    h.write('HELLO PYTHON1')"
   ]
  },
  {
   "cell_type": "code",
   "execution_count": null,
   "id": "714d6014-18d8-4a28-bdd7-fe47319f8323",
   "metadata": {},
   "outputs": [],
   "source": []
  }
 ],
 "metadata": {
  "kernelspec": {
   "display_name": "Python 3 (ipykernel)",
   "language": "python",
   "name": "python3"
  },
  "language_info": {
   "codemirror_mode": {
    "name": "ipython",
    "version": 3
   },
   "file_extension": ".py",
   "mimetype": "text/x-python",
   "name": "python",
   "nbconvert_exporter": "python",
   "pygments_lexer": "ipython3",
   "version": "3.12.4"
  }
 },
 "nbformat": 4,
 "nbformat_minor": 5
}
